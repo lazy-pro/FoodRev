{
 "cells": [
  {
   "cell_type": "markdown",
   "metadata": {},
   "source": [
    "Basic Review gathering and sentiment anlysis.\n",
    "Import necessay libraries\n"
   ]
  },
  {
   "cell_type": "code",
   "execution_count": 5,
   "metadata": {},
   "outputs": [],
   "source": [
    "import pandas as pd\n",
    "import numpy as np\n",
    "import matplotlib.pyplot as plt\n",
    "import seaborn as sns"
   ]
  },
  {
   "cell_type": "markdown",
   "metadata": {},
   "source": [
    "import review csv file"
   ]
  },
  {
   "cell_type": "code",
   "execution_count": 6,
   "metadata": {},
   "outputs": [
    {
     "data": {
      "text/plain": [
       "(490, 7)"
      ]
     },
     "execution_count": 6,
     "metadata": {},
     "output_type": "execute_result"
    }
   ],
   "source": [
    "praRev = pd.read_csv('./jsonToCSV/CSV_files/revPrayagCSV.csv')\n",
    "praRev.shape"
   ]
  },
  {
   "cell_type": "markdown",
   "metadata": {},
   "source": [
    "dataset info"
   ]
  },
  {
   "cell_type": "code",
   "execution_count": 7,
   "metadata": {},
   "outputs": [
    {
     "data": {
      "text/html": [
       "<div>\n",
       "<style scoped>\n",
       "    .dataframe tbody tr th:only-of-type {\n",
       "        vertical-align: middle;\n",
       "    }\n",
       "\n",
       "    .dataframe tbody tr th {\n",
       "        vertical-align: top;\n",
       "    }\n",
       "\n",
       "    .dataframe thead th {\n",
       "        text-align: right;\n",
       "    }\n",
       "</style>\n",
       "<table border=\"1\" class=\"dataframe\">\n",
       "  <thead>\n",
       "    <tr style=\"text-align: right;\">\n",
       "      <th></th>\n",
       "      <th>rating_text</th>\n",
       "      <th>rating</th>\n",
       "      <th>foodie_level_num</th>\n",
       "      <th>review_time_friendly</th>\n",
       "      <th>id</th>\n",
       "      <th>likes</th>\n",
       "      <th>review_text</th>\n",
       "    </tr>\n",
       "  </thead>\n",
       "  <tbody>\n",
       "    <tr>\n",
       "      <th>0</th>\n",
       "      <td>Great!</td>\n",
       "      <td>4.0</td>\n",
       "      <td>2</td>\n",
       "      <td>3 days ago</td>\n",
       "      <td>2400052</td>\n",
       "      <td>0</td>\n",
       "      <td>One of the best biriyani point at Allahabad So...</td>\n",
       "    </tr>\n",
       "    <tr>\n",
       "      <th>1</th>\n",
       "      <td>Insane!</td>\n",
       "      <td>5.0</td>\n",
       "      <td>3</td>\n",
       "      <td>4 days ago</td>\n",
       "      <td>2400052</td>\n",
       "      <td>0</td>\n",
       "      <td>Bbbbrrrriiiiiiiyyyyyyaaaannnnniiiiii💕💕💕🔥🔥🔥 the...</td>\n",
       "    </tr>\n",
       "    <tr>\n",
       "      <th>2</th>\n",
       "      <td>Great!</td>\n",
       "      <td>4.0</td>\n",
       "      <td>2</td>\n",
       "      <td>4 days ago</td>\n",
       "      <td>2400052</td>\n",
       "      <td>0</td>\n",
       "      <td>Biryani was really delicious. Also, Raita is a...</td>\n",
       "    </tr>\n",
       "    <tr>\n",
       "      <th>3</th>\n",
       "      <td>Insane!</td>\n",
       "      <td>5.0</td>\n",
       "      <td>2</td>\n",
       "      <td>6 days ago</td>\n",
       "      <td>2400052</td>\n",
       "      <td>0</td>\n",
       "      <td>Eat on is one of the best chicken biryani rest...</td>\n",
       "    </tr>\n",
       "    <tr>\n",
       "      <th>4</th>\n",
       "      <td>Insane!</td>\n",
       "      <td>5.0</td>\n",
       "      <td>2</td>\n",
       "      <td>11 days ago</td>\n",
       "      <td>2400052</td>\n",
       "      <td>1</td>\n",
       "      <td>Awesome Biryani And I Like To Eat Here With My...</td>\n",
       "    </tr>\n",
       "  </tbody>\n",
       "</table>\n",
       "</div>"
      ],
      "text/plain": [
       "  rating_text  rating  foodie_level_num review_time_friendly       id  likes  \\\n",
       "0      Great!     4.0                 2           3 days ago  2400052      0   \n",
       "1     Insane!     5.0                 3           4 days ago  2400052      0   \n",
       "2      Great!     4.0                 2           4 days ago  2400052      0   \n",
       "3     Insane!     5.0                 2           6 days ago  2400052      0   \n",
       "4     Insane!     5.0                 2          11 days ago  2400052      1   \n",
       "\n",
       "                                         review_text  \n",
       "0  One of the best biriyani point at Allahabad So...  \n",
       "1  Bbbbrrrriiiiiiiyyyyyyaaaannnnniiiiii💕💕💕🔥🔥🔥 the...  \n",
       "2  Biryani was really delicious. Also, Raita is a...  \n",
       "3  Eat on is one of the best chicken biryani rest...  \n",
       "4  Awesome Biryani And I Like To Eat Here With My...  "
      ]
     },
     "execution_count": 7,
     "metadata": {},
     "output_type": "execute_result"
    }
   ],
   "source": [
    "praRev.head()"
   ]
  },
  {
   "cell_type": "code",
   "execution_count": 8,
   "metadata": {},
   "outputs": [
    {
     "name": "stdout",
     "output_type": "stream",
     "text": [
      "<class 'pandas.core.frame.DataFrame'>\n",
      "RangeIndex: 490 entries, 0 to 489\n",
      "Data columns (total 7 columns):\n",
      "rating_text             490 non-null object\n",
      "rating                  490 non-null float64\n",
      "foodie_level_num        490 non-null int64\n",
      "review_time_friendly    490 non-null object\n",
      "id                      490 non-null int64\n",
      "likes                   490 non-null int64\n",
      "review_text             490 non-null object\n",
      "dtypes: float64(1), int64(3), object(3)\n",
      "memory usage: 26.9+ KB\n"
     ]
    }
   ],
   "source": [
    "praRev.info()"
   ]
  },
  {
   "cell_type": "markdown",
   "metadata": {},
   "source": [
    "Explore Dataset"
   ]
  },
  {
   "cell_type": "code",
   "execution_count": 9,
   "metadata": {},
   "outputs": [
    {
     "data": {
      "text/plain": [
       "<seaborn.axisgrid.FacetGrid at 0x7f3f55c80990>"
      ]
     },
     "execution_count": 9,
     "metadata": {},
     "output_type": "execute_result"
    },
    {
     "data": {
      "image/png": "[encoded data removed]",
      "text/plain": [
       "<matplotlib.figure.Figure at 0x7f3f97890790>"
      ]
     },
     "metadata": {
      "needs_background": "light"
     },
     "output_type": "display_data"
    }
   ],
   "source": [
    "g = sns.FacetGrid(data=praRev, col='rating')\n",
    "g.map(plt.hist, 'foodie_level_num', bins=50)"
   ]
  },
  {
   "cell_type": "markdown",
   "metadata": {},
   "source": [
    "It is interesting to note that foodie level 2 and 3 give most of the reviews here.\n",
    "Also, most of the reviews are either 1 star or 5 star rated."
   ]
  },
  {
   "cell_type": "code",
   "execution_count": 10,
   "metadata": {},
   "outputs": [
    {
     "data": {
      "text/plain": [
       "<matplotlib.axes._subplots.AxesSubplot at 0x7f3f5395aed0>"
      ]
     },
     "execution_count": 10,
     "metadata": {},
     "output_type": "execute_result"
    },
    {
     "data": {
      "image/png": "[encoded data removed]",
      "text/plain": [
       "<matplotlib.figure.Figure at 0x7f3f55c80090>"
      ]
     },
     "metadata": {
      "needs_background": "light"
     },
     "output_type": "display_data"
    }
   ],
   "source": [
    "sns.boxplot(x='rating', y='foodie_level_num', data=praRev)"
   ]
  },
  {
   "cell_type": "markdown",
   "metadata": {},
   "source": [
    "most of the high foodie levels give rating as 3 or 4 star. But this correlation might not be that important for predicting sentiment of a review as, we can sight various outliers here.\n",
    "We will work on rating_text now."
   ]
  },
  {
   "cell_type": "code",
   "execution_count": 11,
   "metadata": {},
   "outputs": [
    {
     "data": {
      "text/html": [
       "<div>\n",
       "<style scoped>\n",
       "    .dataframe tbody tr th:only-of-type {\n",
       "        vertical-align: middle;\n",
       "    }\n",
       "\n",
       "    .dataframe tbody tr th {\n",
       "        vertical-align: top;\n",
       "    }\n",
       "\n",
       "    .dataframe thead th {\n",
       "        text-align: right;\n",
       "    }\n",
       "</style>\n",
       "<table border=\"1\" class=\"dataframe\">\n",
       "  <thead>\n",
       "    <tr style=\"text-align: right;\">\n",
       "      <th></th>\n",
       "      <th>foodie_level_num</th>\n",
       "      <th>id</th>\n",
       "      <th>likes</th>\n",
       "    </tr>\n",
       "  </thead>\n",
       "  <tbody>\n",
       "    <tr>\n",
       "      <th>foodie_level_num</th>\n",
       "      <td>1.000000</td>\n",
       "      <td>-0.627552</td>\n",
       "      <td>0.322632</td>\n",
       "    </tr>\n",
       "    <tr>\n",
       "      <th>id</th>\n",
       "      <td>-0.627552</td>\n",
       "      <td>1.000000</td>\n",
       "      <td>-0.771674</td>\n",
       "    </tr>\n",
       "    <tr>\n",
       "      <th>likes</th>\n",
       "      <td>0.322632</td>\n",
       "      <td>-0.771674</td>\n",
       "      <td>1.000000</td>\n",
       "    </tr>\n",
       "  </tbody>\n",
       "</table>\n",
       "</div>"
      ],
      "text/plain": [
       "                  foodie_level_num        id     likes\n",
       "foodie_level_num          1.000000 -0.627552  0.322632\n",
       "id                       -0.627552  1.000000 -0.771674\n",
       "likes                     0.322632 -0.771674  1.000000"
      ]
     },
     "execution_count": 11,
     "metadata": {},
     "output_type": "execute_result"
    }
   ],
   "source": [
    "stars = praRev.groupby('rating').mean()\n",
    "stars.corr()"
   ]
  },
  {
   "cell_type": "markdown",
   "metadata": {},
   "source": [
    "we get correlation between numerical fields only .So we'll try if we can convert some text field to numerical.Heatmap for another grasp of correlation."
   ]
  },
  {
   "cell_type": "code",
   "execution_count": 12,
   "metadata": {},
   "outputs": [
    {
     "data": {
      "text/plain": [
       "<matplotlib.axes._subplots.AxesSubplot at 0x7f3f53b7b890>"
      ]
     },
     "execution_count": 12,
     "metadata": {},
     "output_type": "execute_result"
    },
    {
     "data": {
      "image/png": "[encoded data removed]",
      "text/plain": [
       "<matplotlib.figure.Figure at 0x7f3f536f6310>"
      ]
     },
     "metadata": {
      "needs_background": "light"
     },
     "output_type": "display_data"
    }
   ],
   "source": [
    "sns.heatmap(data=stars.corr(), annot=True)"
   ]
  },
  {
   "cell_type": "markdown",
   "metadata": {},
   "source": [
    "As expected no. of likes on a review depend on the foodie_level_num.\n",
    "Now let's try and do the relatively simple task and first leave some non extreme rated reviews."
   ]
  },
  {
   "cell_type": "code",
   "execution_count": 13,
   "metadata": {},
   "outputs": [
    {
     "data": {
      "text/plain": [
       "(416, 7)"
      ]
     },
     "execution_count": 13,
     "metadata": {},
     "output_type": "execute_result"
    }
   ],
   "source": [
    "praRevext = praRev[(praRev['rating']!=2.5)&(praRev['rating']!=3)]\n",
    "praRevext.shape"
   ]
  },
  {
   "cell_type": "markdown",
   "metadata": {},
   "source": [
    "Get required columns for cassification"
   ]
  },
  {
   "cell_type": "code",
   "execution_count": 14,
   "metadata": {},
   "outputs": [
    {
     "data": {
      "text/plain": [
       "'One of the best biriyani point at Allahabad So tasty an so friendly and staff is also liable I am so happy good soooo good biriyani yummy Fe...'"
      ]
     },
     "execution_count": 14,
     "metadata": {},
     "output_type": "execute_result"
    }
   ],
   "source": [
    "X = praRevext['review_text'].tolist()\n",
    "Y = np.asarray(praRevext['rating'], dtype=\"|S6\")\n",
    "X[0]"
   ]
  },
  {
   "cell_type": "markdown",
   "metadata": {},
   "source": [
    "TEXT PREPROCESSING\n",
    "Here our reviews are in plain text.The classification algo will need some feature vector in order to perform the classification task. The simplest way to convert a corpus to a vector format is the bag-of-words approach, where each unique word in a text will be represented by one number.\n",
    "The function below removes punctuation, stopwords, and returns a list of the remaining words, or tokens."
   ]
  },
  {
   "cell_type": "code",
   "execution_count": 15,
   "metadata": {},
   "outputs": [],
   "source": [
    "import string\n",
    "import nltk\n",
    "from nltk.corpus import stopwords\n",
    "def text_process(text):\n",
    "\n",
    "    '''\n",
    "    Takes in a string of text, then performs the following:\n",
    "    1. Remove all punctuation\n",
    "    2. Remove all stopwords\n",
    "    3. Return the cleaned text as a list of words\n",
    "    '''\n",
    "\n",
    "    nopunc = [char for char in text if char not in string.punctuation]\n",
    "\n",
    "    nopunc = ''.join(nopunc)\n",
    "    \n",
    "    ans = [word for word in nopunc.split() if word.lower() not in stopwords.words('english')]\n",
    "    return ans"
   ]
  },
  {
   "cell_type": "markdown",
   "metadata": {},
   "source": [
    "Function test"
   ]
  },
  {
   "cell_type": "code",
   "execution_count": 16,
   "metadata": {},
   "outputs": [
    {
     "name": "stdout",
     "output_type": "stream",
     "text": [
      "['random', 'sentence', 'like', 'test', 'remove', 'unwanted', 'parts']\n"
     ]
    }
   ],
   "source": [
    "sample = \"This is just a random sentence, we will like to test if .... we can remove unwanted parts!!\"\n",
    "\n",
    "print(text_process(sample))"
   ]
  },
  {
   "cell_type": "markdown",
   "metadata": {},
   "source": [
    "Now we have to vectorise the text collection into token matrix to enable the scikit learn algos here."
   ]
  },
  {
   "cell_type": "code",
   "execution_count": 17,
   "metadata": {
    "scrolled": true
   },
   "outputs": [
    {
     "name": "stderr",
     "output_type": "stream",
     "text": [
      "/usr/local/lib/python2.7/dist-packages/ipykernel_launcher.py:17: UnicodeWarning: Unicode equal comparison failed to convert both arguments to Unicode - interpreting them as being unequal\n"
     ]
    },
    {
     "name": "stdout",
     "output_type": "stream",
     "text": [
      "['0', '1', '10', '100', '130', '15', '150', '16th', '1920', '1st', '2', '20', '2019', '210', '25', '255', '2nd', '3', '30', '300', '35', '366', '3rd', '4', '400', '410', '49', '4th', '5', '50', '500', '69', '69\\xe2\\x82\\xb9', '7', '7th', '9280', 'AG', 'Aaj', 'Absolutely', 'According', 'Actually', 'Affordable', 'Allaha', 'Allahabad', 'AllahabadPrayagraj', 'AllahabadRoof', 'AllahabadThe', 'Along', 'Aloo', 'Also', 'Always', 'Amaizing', 'Amazing', 'Ambiance', 'Ambience', 'American', 'Anda', 'Anyone', 'Attractions', 'Avg', 'Awaited', 'Aweso', 'Awesome', 'BLISS', 'Bad', 'Bada', 'Bahut', 'Balaji', 'Balluchi', 'Banate', 'Barcode', 'Barra', 'Bbbbrrrriiiiiiiyyyyyyaaaannnnniiiiii\\xf0\\x9f\\x92\\x95\\xf0\\x9f\\x92\\x95\\xf0\\x9f\\x92\\x95\\xf0\\x9f\\x94\\xa5\\xf0\\x9f\\x94\\xa5\\xf0\\x9f\\x94\\xa5', 'Bcz', 'Beautiful', 'Ben', 'Beside', 'Best', 'Bewakuf', 'Bhalla', 'Bhara', 'Bhature', 'Bhawan', 'Bhel', 'Bhuna', 'Big', 'Bikaner', 'Bikanervala', 'Bikanerwala', 'Biriyani', 'Biryani', 'Bite', 'Bliss', 'Blissful', 'Blkl', 'Blue', 'Bonsai', 'Brewbakes', 'Brothers', 'Bt', 'Burger', 'Burnt', 'Butter', 'C', 'CELEBRATE', 'COME', 'Cafe', 'Cake', 'Cakes', 'Calm', 'Cash', 'Ch', 'Chat', 'Cheers', 'Cheesy', 'Chhole', 'Chi', 'Chic', 'Chicken', 'Chico', 'Chilli', 'Chinese', 'Chip', 'Cho', 'Choco', 'Chole', 'Chota', 'Chowmein', 'Chowmin', 'City', 'Civil', 'CivilLInes', 'Classy', 'Cleanliness', 'Coffee', 'Coming', 'Connoisseur', 'Cool', 'Cost', 'Couples', 'Customer', 'Cutlery', 'DAY', 'DOSA', 'Dahi', 'Dal', 'Damn', 'Date', 'Decent', 'Delhi', 'Delhis', 'Delicious', 'Delivery', 'Despite', 'Dhokhla', 'Dhoomanganj', 'Dinner', 'Disappointed', 'Dishes', 'Dominos', 'Dont', 'Dos', 'Dosa', 'Dumbest', 'Eat', 'EatOn', 'Eaton', 'Eden', 'Eg', 'Egg', 'Eggrian', 'El', 'Enjoy', 'Even', 'Every', 'Everything', 'Excellent', 'Extremely', 'FOOD', 'Fabulous', 'Fast', 'Favor', 'Fe', 'February', 'Finally', 'First', 'Firstly', 'Follow', 'Food', 'Foods', 'Four', 'Fourth', 'Franky', 'Fraud', 'French', 'Fresh', 'Friendly', 'Friends', 'Fully', 'GOOD', 'Garden', 'Garlic', 'Gentry', 'Ginger', 'Gobhi', 'Goli', 'Good', 'Google', 'Got', 'Gre', 'Great', 'Gud', 'HATE', 'Haldiram', 'Handi', 'Handy', 'Hara', 'Heard', 'Heaven', 'Hello', 'Hey', 'Highly', 'Home', 'Honey', 'Hope', 'Horrible', 'Hot', 'However', 'Hygi', 'Idli', 'Ill', 'Im', 'Include', 'Indian', 'IndianMexicanItalianChinese', 'Indira', 'Inka', 'Interior', 'Interiors', 'Itali', 'Italian', 'It\\xe2\\x80\\x99s', 'Ive', 'I\\xe2\\x80\\x99ve', 'Jabardast', 'Jaggery', 'Jhakkasss', 'KATRA', 'KFC', 'KFCthe', 'Kachori', 'Kadai', 'Kadhai', 'Kaise', 'Kali', 'Kamdhenu', 'Ke', 'Kebab', 'Keep', 'Ketchup', 'Khana', 'Khandvi', 'Khazanas', 'Kumbh', 'LOOK', 'LOOKING', 'Laccha', 'Lemonade', 'Lets', 'Like', 'Limited', 'Lines', 'Located', 'Logo', 'Love', 'Loved', 'Lovely', 'Low', 'Lunch', 'Lv', 'MC', 'MOMENTSDONT', 'MRP', 'Maggi', 'Magie', 'Mahal', 'Makhni', 'Makkhans', 'Malt', 'Manchurian', 'Mandar', 'Manners', 'March', 'Masala', 'May', 'Mc', 'McDonal', 'McDonalds', 'Menu', 'Mera', 'Mexican', 'Mirch', 'Momos', 'Months', 'Mostly', 'Moti', 'Much', 'Murg', 'Murgh', 'Must', 'Mutton', 'ND', 'Na', 'Name', 'Nann', 'Nest', 'Netram', 'Never', 'New', 'Nexa', 'Next', 'Nice', 'Nicely', 'Non', 'None', 'Nonveg', 'North', 'Nutella', 'Oh', 'Old', 'Oldest', 'One', 'Online', 'Opt', 'Order', 'Ordered', 'Ordered\\xc2\\xa0', 'Others', 'Otherwise', 'Ov', 'Overall', 'P', 'PLAZA', 'Packing', 'Pai', 'Pakoda', 'Paneer', 'Panner', 'Parantha', 'Paratha', 'Parking', 'Pastry', 'Pathetic', 'PayTM', 'Peaceful', 'Perfect', 'Pic', 'Pind', 'Pitifully', 'Pizza', 'Place', 'Please', 'Plz', 'Pocket', 'Prayag', 'Prayagraj', 'PrayagrajAllahabad', 'Prayagrajfoodies', 'Presentation', 'Pretty', 'Price', 'Prices', 'Pricy', 'Prime', 'Prior', 'Probably', 'Provides', 'Pryagraj', 'Punja', 'Quality', 'Quantity', 'Quite', 'RESTRO', 'RS50', 'Raita', 'Raj', 'Rambagh', 'Rant', 'Rate', 'Rather', 'Ravisha', 'Read', 'Ready', 'Real', 'Really', 'Received', 'Recently', 'Recommen', 'Restaurant', 'Restraunt', 'Review', 'Road', 'Rolls', 'Rotis', 'Rubbish', 'SPECIAL', 'Safe', 'Sambhar', 'Sath', 'School', 'Seating', 'Second', 'Self', 'Serve', 'Servic', 'Service', 'Services', 'Serving', 'Sexy', 'Shop', 'Simple', 'Since', 'Sirf', 'Smoked', 'Soufl\\xc3\\xa9', 'Soup', 'South', 'Special', 'Spicy', 'Spring', 'Staff', 'Stale', 'Starters', 'Stopped', 'Street', 'Sub', 'Super', 'Sweet', 'Sweets', 'Sweetsa', 'Swiggy', 'Tandoori', 'Taste', 'Tasting', 'Tasty', 'Tastyfresh', 'Th', 'Thali', 'Thank', 'Thi', 'Thier', 'Third', 'Thora', 'Though', 'Tikk', 'Tikki', 'Time', 'Toilet', 'Told', 'Tomato', 'Top', 'Totally', 'Totaly', 'Trust', 'Try', 'Tum', 'Turnoffs', 'U', 'UNFORGETTABLE', 'USPFC', 'Undoubtedly', 'Updated', 'Ur', 'Value', 'Veg', 'Visit', 'Visited', 'Visit\\xf0\\x9f\\x98\\x8d\\xf0\\x9f\\x98\\x9d', 'W', 'Waste', 'Well', 'Went', 'Weve', 'Whatever', 'Whenever', 'Wo', 'Worst', 'Would', 'WowJust', 'Yay', 'Yummy', 'Zaika', 'Zomato', 'aap', 'aati', 'aayee\\xf0\\x9f\\x98\\x9a\\xf0\\x9f\\x98\\x9a\\xf0\\x9f\\x98\\x9a', 'ab', 'absolute', 'absolutely', 'acc', 'accessories', 'according', 'acha', 'achhi', 'achi', 'active', 'actually', 'add', 'added', 'addicts', 'addle', 'adds', 'admire', 'adore', 'adults', 'advise', 'advised', 'affordable', 'affordableThe', 'affordableevery', 'affordable\\xe2\\x9d\\xa4\\xef\\xb8\\x8f', 'ago', 'aioli', 'air', 'al', 'alert', 'alike', 'allahabad', 'allahabadservice', 'allahabadthe', 'allahabd', 'almost', 'alone', 'along', 'aloo', 'alot', 'already', 'als', 'alsm', 'also', 'alternate', 'although', 'always', 'amaz', 'amazed', 'amazi', 'amazing', 'amazingYou', 'amazingburger', 'ambi', 'ambiance', 'ambie', 'ambience', 'ambiencestaff', 'ambiencewe', 'among', 'amzing', 'andeywala', 'andmurg', 'anniversaryat', 'another', 'ans', 'anticipated', 'anyone', 'anything', 'anytime', 'app', 'appetite', 'appreciable', 'aprox', 'apt', 'aptly', 'area', 'areas', 'arent', 'aren\\xe2\\x80\\x99t', 'around', 'aroundaverage', 'arranged', 'arrangement', 'arrangements', 'arrived', 'asapTaste', 'ask', 'aspiring', 'assistance', 'ate', 'atmosphere', 'attended', 'attentive', 'attitude', 'attr', 'attractive', 'aur', 'authentic', 'availability', 'available', 'averag', 'average', 'awesome', 'awesomeHandi', 'awesomenorth', 'awsome', 'aya', 'b', 'baba', 'back', 'background', 'bad', 'badImprove', 'badSo', 'badbaasi', 'badi', 'badiya', 'bag', 'bahut', 'baked', 'bakery', 'balaji', 'banana', 'bar', 'barely', 'based', 'basic', 'batar', 'bazaar', 'bday', 'beanhererestro', 'beautiful', 'beautifully', 'beauty', 'bee', 'bees', 'behaved', 'behavior', 'behaviour', 'behind', 'bekaar', 'believe', 'beneficial', 'beside', 'best', 'best\\xe2\\x9d\\xa4\\xef\\xb8\\x8f', 'better', 'beverages', 'bewkoof', 'bhai', 'bhale', 'bhature', 'bhi', 'bhojnalaya', 'bhookh', 'bhool', 'bhut', 'bi', 'big', 'biriyani', 'biriyanis', 'birthday', 'biry', 'biryan', 'biryani', 'biryanis', 'biryaniso', 'bit', 'bite', 'black', 'blackout', 'bland', 'blue', 'bluebe', 'bna', 'body', 'boiled', 'book', 'books', 'bothplz', 'bottle', 'box', 'boy', 'boys', 'braids', 'brands', 'brea', 'bread', 'breads', 'breakfast', 'brewbakesallahabad1', 'brightThe', 'brilliant', 'briyani', 'brothera', 'brownie', 'brunch', 'bucks', 'budget', 'buds', 'buffet', 'bugde', 'building', 'bunch', 'burger', 'burgers', 'burnt', 'busy', 'butter', 'buy', 'buzz', 'c', 'cafe', 'cafes', 'caffe', 'caf\\xc3\\xa9s', 'cak', 'cake', 'cakes', 'cakesimple', 'call', 'called', 'calls', 'calm', 'came', 'cans', 'cant', 'car', 'caramel', 'carry', 'cat', 'catch', 'catchy', 'ceili', 'celebrate', 'celebration', 'ch', 'chaat', 'chaats', 'chain', 'chainlocated', 'chains', 'chair', 'chance', 'chang', 'change', 'chaotic', 'chapati', 'charge', 'charged', 'charging', 'chat', 'chatni', 'chatore', 'chawal', 'cheap', 'cheaper', 'cheating', 'checking', 'cheese', 'cheez', 'cheeze', 'chef', 'chena', 'chenna', 'chesse', 'chew', 'chewing', 'chick', 'chicken', 'chickennot', 'chickens', 'chiken', 'chikn', 'childr', 'chilli', 'chilly', 'chinese', 'chit', 'choco', 'chocolate', 'chocs', 'choices', 'chole', 'chole\\xf0\\x9f\\x98\\xb6', 'choose', 'chowk', 'chutney', 'city', 'civil', 'class', 'classy', 'clean', 'coc', 'coconut', 'code', 'coffee', 'coffeecallingallahabad', 'coke', 'cold', 'college', 'colour', 'column', 'com', 'combo', 'come', 'comes', 'comfortable', 'comfy', 'compact', 'compared', 'comparison', 'complaining', 'complaint', 'complete', 'completely', 'concept', 'concern', 'condition', 'confectioner', 'confectioners', 'confectionery', 'confuse', 'conges', 'congested', 'considered', 'consisted', 'consistent', 'consists', 'consumedworst', 'contain', 'contains', 'content', 'continent', 'cooked', 'coolers', 'cooperate', 'cooperative', 'cooperativeloved', 'corporative', 'cost', 'costly', 'costunder', 'could', 'couple', 'couples', 'course', 'courteous', 'coverd', 'cozy', 'craving', 'cravings', 'cream', 'created', 'credit', 'crisp', 'crispy', 'crowded', 'crunchiest', 'crunchy', 'crust', 'cu', 'cuisine', 'culture', 'cup', 'curries', 'curry', 'currythey', 'custo', 'customer', 'customers', 'cute', 'cutlery', 'daal', 'dahi', 'dahipuri', 'damaged', 'dark', 'dat', 'day', 'days', 'de', 'deals', 'decent', 'decide', 'decided', 'decor', 'decorations', 'decreasing', 'deducted', 'deep', 'definately', 'definite', 'definitely', 'degarding', 'degraded', 'deilvery', 'delecious', 'delicacies', 'deliciosa', 'deliciou', 'delicious', 'deliciousbut', 'delievert', 'delight', 'delightfulfood', 'deliocious', 'deliv', 'delived', 'deliver', 'delivered', 'delivering', 'delivers', 'delivert', 'delivery', 'deluxe', 'denied', 'dent', 'deserve', 'designs', 'desires', 'desser', 'dessert', 'desserts', 'dest', 'destination', 'dets', 'dhaba', 'dhabas', 'dhamaka', 'didnt', 'die', 'difference', 'different', 'digest', 'dilevery', 'dine', 'dining', 'dinner', 'dirty', 'dis', 'disadvantage', 'disappoint', 'disappointe', 'disappointed', 'disappointing', 'disaster', 'discount', 'discuss', 'dish', 'dishes', 'dissapointment', 'dissapointted', 'dissatisfied', 'diverse', 'divided', 'diya', 'dizzy', 'doesnt', 'doest', 'dog', 'domino', 'dominos', 'donalds', 'done', 'dont', 'don\\xe2\\x80\\x99t', 'dosa', 'dosaAs', 'dosas', 'dosathe', 'double', 'doubt', 'drawback', 'drink', 'drinking', 'drinks', 'droo', 'dry', 'dump', 'dustbin', 'e', 'early', 'earned', 'easily', 'easy', 'eat', 'eatabal', 'eatable', 'eaten', 'eater', 'eatery', 'eating', 'economical', 'efficient', 'egg', 'eggless', 'eggs', 'ek', 'ekdam', 'elegant', 'else', 'empty', 'end', 'enjoy', 'enjoyed', 'enough', 'ensure', 'ensuring', 'enter', 'entire', 'environment', 'especiall', 'especially', 'et', 'etc', 'etiquette', 'even', 'evening', 'ever', 'every', 'everyone', 'everything', 'everytime', 'ex', 'excellent', 'excessive', 'expected', 'expecting', 'expeditions', 'expenditure', 'expensive', 'experience', 'experienced', 'experiencewould', 'experimented', 'expired', 'expl', 'explored', 'express', 'exprriance', 'exquisite', 'extensive', 'extra', 'extremely', 'eyes', 'f', 'fab', 'fabulous', 'facilities', 'facility', 'facilties', 'fact', 'fair', 'false', 'families', 'family', 'familyfriendly', 'famous', 'fan', 'fantastic', 'far', 'fast', 'faster', 'fav', 'favorite', 'favorites', 'favourite', 'fb', 'feedback', 'feel', 'felt', 'fill', 'filled', 'finally', 'find', 'fine', 'finest', 'finetaste', 'finger', 'finish', 'first', 'fish', 'fits', 'five', 'flat', 'flavor', 'flavorful', 'flavors', 'flavoured', 'flavours', 'floor', 'fluffy', 'fo', 'foil', 'food', 'foodAwesome', 'foodI', 'foodZomato', 'foodawful', 'foodie', 'foodies', 'foodies\\xe2\\x9d\\xa4\\xef\\xb8\\x8f', 'fooding', 'foodnice', 'foods', 'foody', 'foodz\\xf0\\x9f\\x98\\x9c', 'fool', 'fooled', 'foolish', 'football', 'forget', 'forms', 'foul', 'found', 'four', 'fr', 'franchise', 'frankie', 'fraud', 'free', 'frenchfries', 'frequently', 'fresh', 'freshly', 'frie', 'fried', 'frien', 'friend', 'friendly', 'friendlylove', 'friends', 'fries', 'frm', 'frnds', 'frozen', 'fruits', 'fu', 'full', 'fully', 'fun', 'funky', 'funkyLove', 'fusi', 'fusion', 'future', 'g', 'gaming', 'ganda', 'gangbesides', 'garden', 'garlic', 'garnishing', 'gate', 'gathering', 'gatiya', 'gave', 'gay', 'gaya', 'generally', 'generous', 'get', 'gets', 'ghatiya', 'ghee', 'giloriit', 'give', 'given', 'gives', 'giving', 'glad', 'glass', 'glueDo', 'go', 'goers', 'goes', 'going', 'gone', 'goo', 'good', 'goodI', 'gooda', 'goodbut', 'goodnot', 'goodonline', 'goodpresentation', 'goodservice', 'goodstaff', 'gooodI', 'got', 'gr', 'grab', 'grand', 'grave', 'gravy', 'gravypl', 'great', 'greavy', 'green', 'greeted', 'grilled', 'gud', 'guess', 'gulab', 'gulukand', 'gumvery', 'guy', 'guys', 'guys\\xf0\\x9f\\x98\\x80This', 'h', 'hQuantity', 'ha', 'hai', 'haimaine', 'hain', 'hakka', 'haldi', 'half', 'handi', 'hang', 'hangout', 'happen', 'happened', 'happy', 'hard', 'hate', 'haunt', 'havent', 'hazelnut', 'health', 'heard', 'heart', 'heaven', 'heigienic', 'hell', 'herehave', 'herethe', 'hi', 'high', 'higher', 'highly', 'hjggvjjjjbgghgfghj', 'ho', 'hog', 'holds', 'home', 'honey', 'hope', 'hoping', 'horrible', 'hospitable', 'hospitality', 'hot', 'hota', 'hotel', 'hoti', 'hour', 'house', 'however', 'huge', 'hukka', 'hungry', 'hurt', 'hut', 'hyderabadi', 'hygiene', 'hygienic', 'ia', 'icecream', 'idli', 'idorable', 'imaging', 'importance', 'importantly', 'impress', 'impressed', 'impression', 'impressions', 'improve', 'improved', 'improvised', 'included', 'inconvenient', 'indeed', 'indian', 'indish', 'indoor', 'infrastructure', 'ingred', 'ingredients', 'inki', 'inlaws', 'inquired', 'ins', 'insect', 'inside', 'insideNo', 'insta', 'instantly', 'instead', 'insufficient', 'interior', 'interiora', 'interiors', 'introduc', 'introduction', 'iron', 'irresponsible', 'isnt', 'isse', 'issue', 'itThe', 'ita', 'items', 'itemsI', 'itfood', 'itna', 'itotherwise', 'itselfthe', 'itsso', 'it\\xe2\\x80\\x99s', 'jab', 'jaise', 'jaker', 'jaldi', 'jalebi', 'jamun', 'jb', 'jhunsi', 'joint', 'judging', 'juicy', 'junction', 'junkies', 'jusr', 'jvgghjjhghjbjh', 'jyada', 'k', 'ka', 'kaali', 'kabhi', 'kachorisvariety', 'kaddu', 'kadhai', 'karefood', 'karta', 'karte', 'kathi', 'ke', 'kebab', 'kebabs', 'keema', 'keep', 'keventers', 'kfcHot', 'kha', 'khaman', 'khaya', 'kheer', 'khichadi', 'khilwad', 'khumb', 'ki', 'kid', 'kind', 'kinds', 'kiya', 'know', 'known', 'ko', 'korma', 'krta', 'l', 'lababdar', 'lack', 'lacking', 'laddoo', 'lag', 'largest', 'last', 'lastless', 'late', 'latereview', 'lava', 'lazy', 'learn', 'least', 'less', 'lessI', 'let', 'lets', 'level', 'li', 'liable', 'licking', 'life', 'lifethough', 'lighting', 'lights', 'like', 'liked', 'limited', 'limitless', 'lince', 'lines', 'linesthen', 'list', 'listen', 'listening', 'lit', 'little', 'live', 'liye', 'lo', 'locals', 'located', 'locating', 'location', 'log', 'logo', 'long', 'look', 'looking', 'looks', 'lose', 'lot', 'lots', 'loud', 'lounge', 'love', 'loved', 'lovely', 'lover', 'lovers', 'loversespecially', 'loviit', 'low', 'lunch', 'lunchn', 'luxe', 'made', 'magaya', 'maggie', 'maharaja', 'main', 'maine', 'maintain', 'maintained', 'make', 'makeIt', 'makes', 'makhni', 'making', 'malai', 'mall', 'malt', 'man', 'managed', 'management', 'manager', 'manchurian', 'mangana', 'mango', 'mania', 'many', 'mark', 'markIt', 'marks', 'marriage', 'masala', 'mashala', 'massythere', 'match', 'mattar', 'matter', 'meal', 'meals', 'mean', 'means', 'medi', 'mediocre', 'meerapur', 'mela', 'members', 'membersFamous', 'menu', 'menuI', 'meter', 'mildly', 'milkshake', 'mind', 'mindblo', 'mindblowing', 'mini', 'minimal', 'mins', 'mint', 'minutes', 'mirch', 'mirchbiryanibuttr', 'miser', 'misled', 'miss', 'missing', 'mistakes', 'mix', 'mixed', 'mo', 'mod', 'modern', 'momo', 'momos', 'momosssslovers', 'mone', 'money', 'month', 'moreover', 'morning', 'motichoor', 'mouth', 'mouthwatering', 'msg', 'mu', 'much', 'much\\xf0\\x9f\\x98\\x84\\xf0\\x9f\\x98\\x83\\xf0\\x9f\\x98\\x83a', 'much\\xf0\\x9f\\xa5\\xb0', 'multiple', 'mumbai', 'murg', 'musa', 'musallam', 'mushroom', 'music', 'musssssst', 'must', 'mutton', 'n', 'na', 'naan', 'nachos', 'nagar', 'nam', 'name', 'namkeens', 'natural', 'nature', 'naughty', 'nd', 'near', 'nearby', 'need', 'needs', 'never', 'new', 'newly', 'next', 'nhi', 'ni', 'nice', 'nicemust', 'niceprices', 'night', 'nit', 'nive', 'non', 'nonbaked', 'nonveg', 'noodles', 'noodlesdosa', 'north', 'notch', 'nothing', 'nowi', 'nshuxudjdjsjjjshhshsjssjhsshhshdbdbdbdbdhdhdhdbddbdbdbbdbdbddhdhdhxhxhhddb', 'number', 'nyc', 'obnoxious', 'occasions', 'odder', 'odered', 'offe', 'offer', 'offers', 'office', 'often', 'oil', 'oily', 'ok', 'okey', 'old', 'onc', 'oncethe', 'one', 'ones', 'onion', 'online', 'open', 'opened', 'opening', 'opted', 'option', 'optionless', 'options', 'ord', 'ordeeed', 'order', 'orderd', 'ordered', 'orderedso', 'ordering', 'orders', 'ordr', 'original', 'others', 'otherwise', 'outdoor', 'outlet', 'outlets', 'outside', 'outstanding', 'overall', 'overpriced', 'overwhelming', 'owner', 'p', 'paan', 'pace', 'pack', 'packa', 'package', 'packaging', 'packed', 'packet', 'packing', 'page', 'pages', 'paid', 'paie', 'palate', 'pan', 'paneer', 'panipuri', 'pank', 'panner', 'pantry', 'paper', 'par', 'paradise', 'parantha', 'paratha', 'parathe', 'part', 'particle', 'party', 'pasta', 'pastries', 'pastry', 'pata', 'pathetic', 'patiala', 'pay', 'payment', 'pe', 'peace', 'peices', 'penny', 'peo', 'people', 'pepper', 'per', 'perfect', 'perfectWhen', 'period\\xc2\\xa0', 'person', 'personal', 'personally', 'personshighly', 'peshawari', 'pet', 'pic', 'pices', 'pick', 'picking', 'pickle', 'piece', 'pieces', 'piecesquantity', 'pizz', 'pizza', 'pizzaria', 'pizzas', 'pl', 'plac', 'place', 'placed', 'places', 'planning', 'plantation', 'plastic', 'plate', 'plates', 'platform', 'platter', 'plays', 'playstation', 'plaza', 'pleasant', 'please', 'pleasent', 'pleasing', 'plus', 'plz', 'plzr', 'plzz', 'pocket', 'pockets', 'point', 'pointed', 'point\\xe2\\x9d\\xa4\\xef\\xb8\\x8f', 'poisoning', 'pol', 'polite', 'politea', 'poor', 'poore', 'popcorn', 'popular', 'possible', 'pot', 'potato', 'potatoes', 'ppl', 'pr', 'prayag', 'prayagraj', 'prayagrajmenu', 'pre', 'prefer', 'preorders', 'prepared', 'presence', 'present', 'presentat', 'presentation', 'presentationstaff', 'presented', 'pret', 'pretty', 'price', 'priceEveryone', 'priced', 'prices', 'prime', 'priority', 'proactive', 'problem', 'process', 'prod', 'product', 'prompt', 'proper', 'properly', 'property', 'provi', 'provide', 'provided', 'provides', 'providing', 'pryagraj', 'psnd', 'pub', 'puff', 'pulled', 'punjabi', 'pure', 'put', 'putting', 'pyaaza', 'quality', 'qualityi', 'quantity', 'quantitykeema', 'quantiy', 'question', 'quick', 'quickThe', 'quit', 'quite', 'quiye', 'r', 'ra', 'rabdi', 'rahi', 'raita', 'raj', 'rajkachodi', 'ram', 'rang', 'range', 'ras', 'rasgulla', 'rataurent', 'rate', 'rates', 'rating', 'ratings', 'ratoraent', 'ravisha', 'rayta', 'reach', 'reached', 'read', 'ready', 'reall', 'really', 'reasonable', 'reasonably', 'rec', 'receive', 'received', 'recently', 'recieved', 'recomm', 'recommend', 'recommendat', 'recommendation', 'recommended', 'reduces', 'refreshing', 'refu', 'refurbished', 'regarding', 'regardjust', 'regular', 'regularly', 'related', 'relatively', 'relative\\xe2\\x80\\x99s', 'remember', 'reminds', 'remove', 'reorder', 'representation', 'required', 'reservations', 'responsible', 'rest', 'restaurant', 'restaurantMujhe', 'restaurants', 'restaurantthe', 'restaurantthing', 'restaurantwill', 'restaurant\\xe2\\x9d\\xa4\\xef\\xb8\\x8f', 'restorant', 'restraint', 'restrau', 'restro', 'restroapprox', 'resturant', 'returned', 'revamped', 'reviews', 'rice', 'rich', 'ridiculous', 'right', 'ro', 'road', 'roadside', 'roasted', 'role', 'roll', 'rolles', 'rolls', 'room', 'rot', 'roti', 'rotis', 'rs', 'rubber', 'rude', 'rumalifully', 'rumalis', 'rupees', 'sa', 'sabji', 'sabzi', 'safe', 'sahi', 'sakti', 'salad', 'salt', 'sandwich', 'sandwiches', 'satayee', 'satb', 'satiate', 'satisfactory', 'satisfied', 'satisfy', 'satisfying', 'sauce', 'sauces', 'saviour', 'say', 'saying', 'says', 'scarlet', 'scoop', 'scotch', 'scrambled', 'scrumptious', 'se', 'searched', 'seas', 'seasonedExcellent', 'seat', 'seating', 'seatings', 'second', 'sections', 'see', 'seems', 'seen', 'selected', 'self', 'send', 'sent', 'separate', 'serve', 'served', 'serves', 'servi', 'service', 'servicequick', 'services', 'servicethe', 'serviceyou', 'serving', 'servingMust', 'setisfy', 'several', 'sevpuri', 'sez', 'sezwaan', 'shades', 'shahi', 'shakes', 'shakesMaggi', 'shawarma', 'shop', 'shortl', 'shoul', 'show', 'showing', 'showroom', 'siblings', 'side', 'silver', 'similar', 'simple', 'simply', 'since', 'single', 'sink', 'sip', 'sit', 'sitting', 'situated', 'size', 'sizzler', 'sizzlers', 'skeptical', 'skip', 'skipped', 'skte', 'slack', 'slow', 'sm', 'smacking', 'small', 'smallest', 'smalli', 'smell', 'smelling', 'smelly', 'smooth', 'snacks', 'snacksloved', 'sober', 'soft', 'sold', 'solution', 'somehow', 'somet', 'something', 'sometime', 'somewhat', 'soo', 'soon', 'sooo', 'soooo', 'soothes', 'sophistication', 'souce', 'south', 'soya', 'sp', 'spa', 'space', 'spacious', 'spark', 'spcl', 'special', 'specialises', 'speciality', 'specially', 'specifically', 'spend', 'spiced', 'spices', 'spicy', 'spite', 'spoiled', 'spoon', 'spot', 'spots', 'spread', 'staff', 'staffamazing', 'staffs', 'stale', 'stand', 'stands', 'star', 'stars', 'start', 'started', 'starters', 'starts', 'steak', 'still', 'stocked', 'stomachthe', 'street', 'streets', 'strip', 'strong', 'strument', 'stuff', 'stuffs', 'su', 'subs', 'subways', 'sufficient', 'sugar', 'suggest', 'suggested', 'suggests', 'suitable', 'super', 'superb', 'superbthe', 'suprisingly', 'sure', 'surely', 'surprised', 'surrounding', 'surviving', 'swad', 'swe', 'sweet', 'sweetreally', 'sweets', 'swigg', 'syrup', 'table', 'tadka', 'tagline', 'tak', 'take', 'takeaway', 'taken', 'takes', 'taking', 'talk', 'tandoori', 'tast', 'tasta', 'taste', 'tasteThey', 'tasted', 'tasteless', 'tastenice', 'tastes', 'tastless', 'tasty', 'tastyI', 'tastydelicious', 'tastythe', 'tatse', 'tawa', 'tax', 'tea', 'tel', 'temptation', 'tempting', 'tender', 'terms', 'test', 'th', 'tha', 'thali', 'thaliand', 'thalis', 'thank', 'thanks', 'thanku', 'thats', 'theme', 'themthis', 'ther', 'therefore', 'theres', 'thes', 'thi', 'thier', 'thik', 'thin', 'thing', 'things', 'think', 'thinking', 'thipoo', 'thoroughly', 'though', 'thought', 'thr', 'thre', 'three', 'thumbs', 'thums', 'thus', 'tidy', 'tikka', 'tikki', 'time', 'timely', 'times', 'tnt', 'today', 'together', 'toma', 'tomato', 'tooIt', 'took', 'tooth', 'top', 'topnotch', 'toppings', 'tossed', 'total', 'totally', 'towards', 'town', 'tr', 'train', 'trained', 'transport', 'treat', 'treats', 'trick', 'tried', 'trust', 'try', 'trying', 'tummy', 'turned', 'twice', 'twist', 'two', 'tym', 'type', 'types', 'u', 'unbake', 'uncomfortably', 'unforgettable', 'unfriendly', 'unhealthy', 'unhygienic', 'unique', 'unsatisfi', 'unsatisfied', 'update', 'upset', 'upto', 'ur', 'us', 'use', 'used', 'useless', 'users', 'using', 'usthis', 'usual', 'usually', 'uttrakhand', 'v', 'valet', 'valuable', 'value', 'variants', 'variations', 'variet', 'varieties', 'variety', 'various', 'veg', 'vegetable', 'vegetables', 'vegetarian', 'veggies', 'veg\\xf0\\x9f\\x92\\x95', 'ver', 'via', 'vibe', 'vibes', 'vintage', 'visit', 'visitAmbiance', 'visitReally', 'visited', 'visitedthe', 'visiting', 'visit\\xe2\\x9d\\xa4\\xef\\xb8\\x8f', 'vist', 'vry', 'w', 'wa', 'waffles', 'wait', 'waited', 'waiter', 'waiters', 'wala', 'walked', 'wall', 'walls', 'walnut', 'wanna', 'want', 'wanted', 'wants', 'warm', 'warm\\xf0\\x9f\\x99\\x8f', 'wasnt', 'wast', 'waste', 'was\\xc2\\xa0', 'watering', 'wateringThe', 'way', 'weekday', 'weeks', 'well', 'wellbeancafe', 'wellmy', 'welly', 'went', 'west', 'whe', 'white', 'whole', 'wi', 'wid', 'wide', 'wife', 'wings', 'wise', 'wish', 'wit', 'within', 'without', 'wo', 'wonderful', 'wor', 'worries', 'worst', 'worstAnd', 'worth', 'worthy', 'would', 'wrap', 'wrapped', 'wraps', 'writing', 'wrost', 'ws', 'wth', 'yaad', 'yammy', 'yeah', 'year', 'years', 'yes', 'yet', 'yha', 'yo', 'youngsters', 'youre', 'yum', 'yumm', 'yummiest', 'yummy', 'z', 'zaika', 'zero', 'zomato', 'zomatoin', 'zommato', 'zomoto', '\\xe2\\x80\\xa2', '\\xe2\\x80\\xa2The', '\\xe2\\x98\\x95', '\\xe2\\x98\\x95\\xef\\xb8\\x8f', '\\xe2\\x99\\xa5\\xef\\xb8\\x8f', '\\xe2\\x9c\\x8c', '\\xe2\\x9d\\xa4', '\\xe2\\x9d\\xa4\\xef\\xb8\\x8f', '\\xe2\\x9d\\xa4\\xef\\xb8\\x8f\\xe2\\x9d\\xa4\\xef\\xb8\\x8f', '\\xe2\\x9d\\xa4\\xef\\xb8\\x8f\\xe2\\x9d\\xa4\\xef\\xb8\\x8f\\xe2\\x9d\\xa4\\xef\\xb8\\x8f', '\\xf0\\x9f\\x8d\\x97Hello', '\\xf0\\x9f\\x8d\\x9c', '\\xf0\\x9f\\x91\\x8c', '\\xf0\\x9f\\x91\\x8c\\xf0\\x9f\\x8f\\xbb\\xf0\\x9f\\x91\\x8c\\xf0\\x9f\\x8f\\xbb\\xf0\\x9f\\x91\\x8c\\xf0\\x9f\\x8f\\xbb', '\\xf0\\x9f\\x91\\x8c\\xf0\\x9f\\x91\\x8c', '\\xf0\\x9f\\x91\\x8d', '\\xf0\\x9f\\x92\\x9c', '\\xf0\\x9f\\x92\\xa9\\xf0\\x9f\\x92\\xa9\\xf0\\x9f\\x92\\xa9', '\\xf0\\x9f\\x92\\xb8Very', '\\xf0\\x9f\\x98\\x81\\xf0\\x9f\\x98\\x81if', '\\xf0\\x9f\\x98\\x8b', '\\xf0\\x9f\\x98\\x8bbut', '\\xf0\\x9f\\xa4\\x97', '\\xf0\\x9f\\xa5\\xb0\\xe2\\x9d\\xa4\\xef\\xb8\\x8f\\xf0\\x9f\\x98\\x8d']\n",
      "2345\n"
     ]
    }
   ],
   "source": [
    "from sklearn.feature_extraction.text import CountVectorizer\n",
    "vectorizer = CountVectorizer(encoding=\"utf-8\",analyzer=text_process)\n",
    "#some reviews have empty strings as texts so we need to remove it from X \n",
    "\n",
    "bow = vectorizer.fit(X)\n",
    "print(vectorizer.get_feature_names())\n",
    "print len(bow.vocabulary_)"
   ]
  },
  {
   "cell_type": "markdown",
   "metadata": {},
   "source": [
    "now lets look how this works"
   ]
  },
  {
   "cell_type": "code",
   "execution_count": 167,
   "metadata": {},
   "outputs": [
    {
     "name": "stdout",
     "output_type": "stream",
     "text": [
      "Very slow service. Horrible hospitality. The waiters were full of attitude and had a very mean behaviour. Not worth going. The food takes ab...\n",
      "  (0, 225)\t1\n",
      "  (0, 496)\t1\n",
      "  (0, 590)\t1\n",
      "  (0, 635)\t1\n",
      "  (0, 1092)\t1\n",
      "  (0, 1136)\t1\n",
      "  (0, 1174)\t1\n",
      "  (0, 1249)\t1\n",
      "  (0, 1475)\t1\n",
      "  (0, 1932)\t1\n",
      "  (0, 1976)\t1\n",
      "  (0, 2082)\t1\n",
      "  (0, 2243)\t1\n",
      "  (0, 2289)\t1\n"
     ]
    }
   ],
   "source": [
    "rev18 = X[18]\n",
    "print rev18\n",
    "bow18 = bow.transform([rev18])\n",
    "print bow18"
   ]
  },
  {
   "cell_type": "markdown",
   "metadata": {},
   "source": [
    "so there are 15 unique words from the bow in rev18 and one of them appears twice.Now lets vectorise the whole dataset X into the matrix."
   ]
  },
  {
   "cell_type": "code",
   "execution_count": 168,
   "metadata": {},
   "outputs": [
    {
     "name": "stderr",
     "output_type": "stream",
     "text": [
      "/usr/local/lib/python2.7/dist-packages/ipykernel_launcher.py:17: UnicodeWarning: Unicode equal comparison failed to convert both arguments to Unicode - interpreting them as being unequal\n"
     ]
    },
    {
     "name": "stdout",
     "output_type": "stream",
     "text": [
      "('Shape of Sparse Matrix: ', (416, 2345))\n",
      "('Amount of Non-Zero occurrences: ', 5720)\n",
      "0.586353944563\n"
     ]
    }
   ],
   "source": [
    "X_mat = bow.transform(X)\n",
    "print('Shape of Sparse Matrix: ', X_mat.shape)\n",
    "print('Amount of Non-Zero occurrences: ', X_mat.nnz)\n",
    "\n",
    "# Percentage of non-zero values\n",
    "density = (100.0 * X_mat.nnz / (X_mat.shape[0] * X_mat.shape[1]))\n",
    "print( density)"
   ]
  },
  {
   "cell_type": "markdown",
   "metadata": {},
   "source": [
    "Training and testing data"
   ]
  },
  {
   "cell_type": "code",
   "execution_count": 169,
   "metadata": {},
   "outputs": [
    {
     "name": "stdout",
     "output_type": "stream",
     "text": [
      "(291, 2345)\n",
      "(291,)\n"
     ]
    }
   ],
   "source": [
    "from sklearn.model_selection import train_test_split\n",
    "\n",
    "trainFt, testFt, trainLabel, testLabel = train_test_split(X_mat, Y, test_size=0.3, random_state=101)\n",
    "trainFt = trainFt.toarray()\n",
    "testFt = testFt.toarray()\n",
    "print trainFt.shape\n",
    "print trainLabel.shape"
   ]
  },
  {
   "cell_type": "markdown",
   "metadata": {},
   "source": [
    "Applying different Models:\n",
    "Multinomial Naive bayes"
   ]
  },
  {
   "cell_type": "code",
   "execution_count": 171,
   "metadata": {
    "scrolled": true
   },
   "outputs": [
    {
     "name": "stdout",
     "output_type": "stream",
     "text": [
      "[[19  1  2  1]\n",
      " [ 3  0  1  1]\n",
      " [ 5  1 22 21]\n",
      " [ 4  0 11 33]]\n",
      "\n",
      "\n",
      "             precision    recall  f1-score   support\n",
      "\n",
      "        1.0       0.61      0.83      0.70        23\n",
      "        2.0       0.00      0.00      0.00         5\n",
      "        4.0       0.61      0.45      0.52        49\n",
      "        5.0       0.59      0.69      0.63        48\n",
      "\n",
      "avg / total       0.58      0.59      0.58       125\n",
      "\n"
     ]
    }
   ],
   "source": [
    "from sklearn.naive_bayes import MultinomialNB\n",
    "\n",
    "#Train model with training data\n",
    "nb = MultinomialNB()\n",
    "nb.fit(trainFt, trainLabel)\n",
    "\n",
    "#get prediction on testing data\n",
    "preds = nb.predict(testFt)\n",
    "\n",
    "#checking the accuracy of prediction\n",
    "from sklearn.metrics import confusion_matrix, classification_report\n",
    "\n",
    "print(confusion_matrix(testLabel, preds))\n",
    "print('\\n')\n",
    "print(classification_report(testLabel, preds))"
   ]
  },
  {
   "cell_type": "markdown",
   "metadata": {},
   "source": [
    "As we can see we don't have very satisfactory result and that is because of our ineffective dataset or irrelevant unigrams."
   ]
  }
 ],
 "metadata": {
  "kernelspec": {
   "display_name": "Python 2",
   "language": "python",
   "name": "python2"
  },
  "language_info": {
   "codemirror_mode": {
    "name": "ipython",
    "version": 2
   },
   "file_extension": ".py",
   "mimetype": "text/x-python",
   "name": "python",
   "nbconvert_exporter": "python",
   "pygments_lexer": "ipython2",
   "version": "2.7.12"
  }
 },
 "nbformat": 4,
 "nbformat_minor": 2
}
